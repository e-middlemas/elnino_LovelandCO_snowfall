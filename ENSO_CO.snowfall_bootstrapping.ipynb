{
 "cells": [
  {
   "cell_type": "markdown",
   "metadata": {},
   "source": [
    "<img src=\"./elnino_snow_colorado.png\">  \n",
    "\n",
    "  \n",
    "<img src=\"./enso.gif\">\n",
    "\n",
    "*https://www.thedenverchannel.com/weather/weather-news/el-nino-has-ended-heres-what-that-means-for-colorado-and-our-upcoming-winter-season*"
   ]
  },
  {
   "cell_type": "markdown",
   "metadata": {},
   "source": [
    "# *Does El Niño actually coincide with changes in snowfall in a ski resort town in Colorado?*  \n",
    "  \n",
    "El Niño Southern Oscillation (ENSO) is a climate phenomenon originating in the Pacific that has effects on precipitation and temperatures worldwide. Many news sources in Colorado like to think that El Niños, the positive or warm phase of ENSO, brings heavy snowfall to Colorado. \n",
    "\n",
    "__The goal of this code is to test whether the mean snowfall during El Niño years is different from the mean overall snowfall in a the ski resort town of Loveland, CO.__ The hypothesis we are going to test is: is the average snowfall during El Niño (or La Niña) years significantly different from that during ENSO-neutral years?\n",
    "\n",
    "The steps of the analysis are as follows:\n",
    "1. Read in values of accumulated snow fall (i.e., April snow depth) from Loveland, CO, as well as an index representing ENSO.\n",
    "2. Find snowfall during El Niño years according to those years where the ENSO index exceeds +1$^\\circ$C. Repeat for La Niña years using a threshold of -1$^\\circ$C.\n",
    "3. Use various hypothesis testing tools to test our hypothesis."
   ]
  },
  {
   "cell_type": "markdown",
   "metadata": {},
   "source": [
    "## Preface: import modules, data, and calculate basic statistics"
   ]
  },
  {
   "cell_type": "markdown",
   "metadata": {},
   "source": [
    "### Import modules"
   ]
  },
  {
   "cell_type": "code",
   "execution_count": 1,
   "metadata": {},
   "outputs": [],
   "source": [
    "import matplotlib.pyplot as plt \n",
    "import numpy as np\n",
    "import pandas as pd\n",
    "import scipy.stats as stats\n",
    "\n",
    "%matplotlib inline  "
   ]
  },
  {
   "cell_type": "code",
   "execution_count": 2,
   "metadata": {},
   "outputs": [],
   "source": [
    "# Read in the data\n",
    "filename='snow_enso_data.csv'\n",
    "data=pd.read_csv(filename,sep=',')"
   ]
  },
  {
   "cell_type": "markdown",
   "metadata": {},
   "source": [
    "### Become familiar with the dataset"
   ]
  },
  {
   "cell_type": "code",
   "execution_count": 3,
   "metadata": {},
   "outputs": [
    {
     "data": {
      "text/html": [
       "<div>\n",
       "<style scoped>\n",
       "    .dataframe tbody tr th:only-of-type {\n",
       "        vertical-align: middle;\n",
       "    }\n",
       "\n",
       "    .dataframe tbody tr th {\n",
       "        vertical-align: top;\n",
       "    }\n",
       "\n",
       "    .dataframe thead th {\n",
       "        text-align: right;\n",
       "    }\n",
       "</style>\n",
       "<table border=\"1\" class=\"dataframe\">\n",
       "  <thead>\n",
       "    <tr style=\"text-align: right;\">\n",
       "      <th></th>\n",
       "      <th>Year</th>\n",
       "      <th>LovelandPass_April1SWE_inches</th>\n",
       "      <th>Nino34_anomaly_prevDec</th>\n",
       "    </tr>\n",
       "  </thead>\n",
       "  <tbody>\n",
       "    <tr>\n",
       "      <th>0</th>\n",
       "      <td>1936</td>\n",
       "      <td>15.8</td>\n",
       "      <td>-0.04</td>\n",
       "    </tr>\n",
       "    <tr>\n",
       "      <th>1</th>\n",
       "      <td>1937</td>\n",
       "      <td>10.1</td>\n",
       "      <td>0.63</td>\n",
       "    </tr>\n",
       "    <tr>\n",
       "      <th>2</th>\n",
       "      <td>1938</td>\n",
       "      <td>12.1</td>\n",
       "      <td>0.22</td>\n",
       "    </tr>\n",
       "    <tr>\n",
       "      <th>3</th>\n",
       "      <td>1939</td>\n",
       "      <td>18.2</td>\n",
       "      <td>-0.79</td>\n",
       "    </tr>\n",
       "    <tr>\n",
       "      <th>4</th>\n",
       "      <td>1940</td>\n",
       "      <td>10.0</td>\n",
       "      <td>0.05</td>\n",
       "    </tr>\n",
       "  </tbody>\n",
       "</table>\n",
       "</div>"
      ],
      "text/plain": [
       "   Year  LovelandPass_April1SWE_inches  Nino34_anomaly_prevDec\n",
       "0  1936                           15.8                   -0.04\n",
       "1  1937                           10.1                    0.63\n",
       "2  1938                           12.1                    0.22\n",
       "3  1939                           18.2                   -0.79\n",
       "4  1940                           10.0                    0.05"
      ]
     },
     "execution_count": 3,
     "metadata": {},
     "output_type": "execute_result"
    }
   ],
   "source": [
    "data.head()"
   ]
  },
  {
   "cell_type": "code",
   "execution_count": 4,
   "metadata": {},
   "outputs": [
    {
     "name": "stdout",
     "output_type": "stream",
     "text": [
      "Year\n",
      "LovelandPass_April1SWE_inches\n",
      "Nino34_anomaly_prevDec\n"
     ]
    }
   ],
   "source": [
    "# Print the data column names\n",
    "print(data.columns[0])\n",
    "print(data.columns[1])\n",
    "print(data.columns[2])\n",
    "\n",
    "snowfall = data['LovelandPass_April1SWE_inches']\n",
    "nino34 = data['Nino34_anomaly_prevDec']\n",
    "\n",
    "# Print the data values to see what they look like\n",
    "#print(data['Year'].values)\n",
    "#print(data['LovelandPass_April1SWE_inches'].values)\n",
    "#print(data['Nino34_anomaly_prevDec'].values)"
   ]
  },
  {
   "cell_type": "markdown",
   "metadata": {},
   "source": [
    "### Calculate some basic statistics; find mean snowfall during El Niño/La Niña years"
   ]
  },
  {
   "cell_type": "code",
   "execution_count": 5,
   "metadata": {},
   "outputs": [
    {
     "name": "stdout",
     "output_type": "stream",
     "text": [
      "Loveland snowfall accumulation statistics over   81 years:\n",
      "['Avg=16.33 in.', 'Std= 4.22 in.^2']\n"
     ]
    }
   ],
   "source": [
    "# Find basic statistics of snowfall across all years\n",
    "snowavg=snowfall.mean()\n",
    "snowstd=snowfall.std()\n",
    "noyrs=len(snowfall)\n",
    "print('Loveland snowfall accumulation statistics over '+'{:4d}'.format(noyrs)+' years:')\n",
    "print(['Avg='+'{:5.2f}'.format(snowavg)+' in.','Std='+'{:5.2f}'.format(snowstd)+' in.^2'])"
   ]
  },
  {
   "cell_type": "code",
   "execution_count": 8,
   "metadata": {},
   "outputs": [
    {
     "name": "stdout",
     "output_type": "stream",
     "text": [
      "Loveland snowfall accumulation statistics during   16 El Niño years:\n",
      "['Avg=15.29 in.', 'Std= 4.00 in.^2']\n"
     ]
    }
   ],
   "source": [
    "# Calculate basic snowfall statistics during El Niño Years\n",
    "en_snow=data[nino34>1.0]['LovelandPass_April1SWE_inches']\n",
    "en_snowavg=en_snow.mean()\n",
    "en_snowstd=en_snow.std()\n",
    "no_en=len(en_snow)\n",
    "\n",
    "print('Loveland snowfall accumulation statistics during '+'{:4d}'.format(no_en)+' El Niño years:')\n",
    "print(['Avg='+'{:5.2f}'.format(en_snowavg)+' in.','Std='+'{:5.2f}'.format(en_snowstd)+' in.^2'])"
   ]
  },
  {
   "cell_type": "code",
   "execution_count": 9,
   "metadata": {},
   "outputs": [
    {
     "name": "stdout",
     "output_type": "stream",
     "text": [
      "Loveland snowfall accumulation statistics during   15 La Niña years:\n",
      "['Avg=17.78 in.', 'Std= 4.11 in.^2']\n"
     ]
    }
   ],
   "source": [
    "### Calculate the average SWE when it was an la nina year\n",
    "ln_snow = data[nino34<-1.0]['LovelandPass_April1SWE_inches']\n",
    "ln_snowavg=ln_snow.mean()\n",
    "ln_snowstd=ln_snow.std()\n",
    "no_ln=len(ln_snow)\n",
    "\n",
    "print('Loveland snowfall accumulation statistics during '+'{:4d}'.format(no_ln)+' La Niña years:')\n",
    "print(['Avg='+'{:5.2f}'.format(ln_snowavg)+' in.','Std='+'{:5.2f}'.format(ln_snowstd)+' in.^2'])"
   ]
  },
  {
   "cell_type": "markdown",
   "metadata": {},
   "source": [
    "## Strategy 1. Simply apply a t-test to provided data with a confidence level of $\\alpha$=0.95.  \n",
    "The trouble with this method is that there are not many instances of El Niño and La Niña years, and so we're dealing with small numbers.\n",
    "\n",
    "Our hypothesis is that mean snowfall during El Niño years is different than mean snowfall during all years. \n",
    "Thus, our null hypothesis is that mean snowfall during El Niño years is the same as mean snowfall during all years."
   ]
  },
  {
   "cell_type": "code",
   "execution_count": 10,
   "metadata": {
    "scrolled": false
   },
   "outputs": [
    {
     "name": "stdout",
     "output_type": "stream",
     "text": [
      "Ttest_indResult(statistic=0.9085808629657712, pvalue=0.3658706172489238)\n",
      "P-value > alpha (0.025)\n",
      "Cannot reject the null hypothesis: El Niño snow years have the same mean as the full record\n"
     ]
    }
   ],
   "source": [
    "ttest_result = stats.ttest_ind(snowfall,en_snow)\n",
    "print(ttest_result)\n",
    "print('P-value > alpha (0.025)')\n",
    "print('Cannot reject the null hypothesis: El Niño snow years have the same mean as the full record')"
   ]
  },
  {
   "cell_type": "markdown",
   "metadata": {},
   "source": [
    "## Strategy 2. Create a distribution of sample snowfall means and then test if the mean snowfall during El Niño years is significantly different from the mean distribution.\n",
    "\n",
    "With bootstrapping, we can have many more instances of the observed mean. Our hypothesis remains the same as before: mean snowfall during El Niño years significantly different from mean snowfall during all other years."
   ]
  },
  {
   "cell_type": "markdown",
   "metadata": {},
   "source": [
    "### Bootstrap to increase sample size: calculate a bunch of different averages over values randomly-selected from the original dataset, over the same number of values as El Niño years. "
   ]
  },
  {
   "cell_type": "code",
   "execution_count": 11,
   "metadata": {},
   "outputs": [
    {
     "name": "stdout",
     "output_type": "stream",
     "text": [
      "Could these be El Niño years?\n",
      "[24.  17.2 13.3 18.2 12.8 22.1 10.   9.  19.  18.  18.8 14.9 18.8 11.2\n",
      " 17.2 14.3]\n"
     ]
    }
   ],
   "source": [
    "# Bootstrap once: choose 16 (number of observed El Niño years) snowfall reports at random \n",
    "snow_boot=np.random.choice(snowfall,no_en)\n",
    "\n",
    "print('Could these be El Niño years?')\n",
    "print(snow_boot) "
   ]
  },
  {
   "cell_type": "code",
   "execution_count": 12,
   "metadata": {},
   "outputs": [
    {
     "data": {
      "text/plain": [
       "Text(0.5, 1.0, 'Bootstrapped Randomly Selected Mean Snowfall Values')"
      ]
     },
     "execution_count": 12,
     "metadata": {},
     "output_type": "execute_result"
    },
    {
     "data": {
      "image/png": "[encoded data removed]",
      "text/plain": [
       "<Figure size 432x288 with 1 Axes>"
      ]
     },
     "metadata": {
      "needs_background": "light"
     },
     "output_type": "display_data"
    }
   ],
   "source": [
    "# Now Bootstrap a bunch more times to generate a distribution snowfall averages, all with the same number of instances as the number of El Niños.\n",
    "noboots=1000\n",
    "\n",
    "# initialize\n",
    "dist_boot=np.empty((noboots,no_en))\n",
    "\n",
    "# loop over to fill in array with randomly selected values\n",
    "for ii in range(noboots): dist_boot[ii,:]=np.random.choice(snowfall,no_en)\n",
    "\n",
    "# Calculate the means of your \"no_en\" randomly selected snow values.\n",
    "mean_boot=np.mean(dist_boot,axis=1)\n",
    "\n",
    "# Plot new distribution of randomly-selected means\n",
    "binsize=0.1\n",
    "min4hist=np.round(np.min(mean_boot),1)-binsize\n",
    "max4hist=np.round(np.max(mean_boot),1)+binsize\n",
    "nbins=int((max4hist-min4hist)/binsize)\n",
    "\n",
    "plt.hist(mean_boot,nbins,edgecolor='black')\n",
    "plt.axvline(x=en_snowavg, color='red')\n",
    "#plt.axvline(x=ln_snowavg, color='purple')\n",
    "plt.xlabel('Mean snowfall over 16 years selected at random')\n",
    "plt.ylabel('Count')\n",
    "plt.title('Bootstrapped Randomly Selected Mean Snowfall Values')"
   ]
  },
  {
   "cell_type": "code",
   "execution_count": 13,
   "metadata": {},
   "outputs": [
    {
     "name": "stdout",
     "output_type": "stream",
     "text": [
      "There is a 15.00% chance that the mean El Niño snowfall is randomly lower than the mean snowfall.\n",
      "The higher the percent, the more likely it is random and the null hypothesis cannot be rejected:\n",
      "there's not a significant relationship between El Niño and lower snowfall.\n",
      "Because this is not less than 5%, we cannot reject the null hypothesis.\n"
     ]
    }
   ],
   "source": [
    "# What is the probability that the snowfall was lower during El Niño just randomly?\n",
    "alpha = 0.05\n",
    "\n",
    "sample_mean=en_snowavg\n",
    "sample_N=1 # there's only one El Niño average\n",
    "\n",
    "population_mean=np.mean(mean_boot)\n",
    "population_std=np.std(mean_boot)\n",
    "\n",
    "xstd=population_std/np.sqrt(sample_N)\n",
    "# Z-statistic (number of standard errors that the sample mean deviates from the population mean\n",
    "z_nino=(sample_mean-population_mean)/xstd\n",
    "\n",
    "percent1side = (1-stats.norm.cdf(np.abs(z_nino)))*100 # one-sided\n",
    "\n",
    "print(\"There is a \"+'{:5.2f}'.format(percent1side)+\"% chance that the mean El Niño snowfall is randomly lower than the mean snowfall.\")\n",
    "print(\"The higher the percent, the more likely it is random and the null hypothesis cannot be rejected:\")\n",
    "print(\"there's not a significant relationship between El Niño and lower snowfall.\")\n",
    "print(\"Because this is not less than 5%, we cannot reject the null hypothesis.\")"
   ]
  },
  {
   "cell_type": "code",
   "execution_count": 14,
   "metadata": {},
   "outputs": [
    {
     "name": "stdout",
     "output_type": "stream",
     "text": [
      "There is a 29.99% chance that the average snowfall during El Niño years is just randomly different from the mean.\n",
      "In other words, if the chance were below 5%, we'd be able to say that the average snowfall is *not* randomly different than the mean snowfall.\n"
     ]
    }
   ],
   "source": [
    "# What is the probability that the snowfall that the El Nino mean differs from the mean by chance?\n",
    "percent2side = (1-stats.norm.cdf(np.abs(z_nino)))*2*100 ##this is a two-sided test\n",
    "\n",
    "print(\"There is a \"+'{:5.2f}'.format(percent2side)+\"% chance that the average snowfall during El Niño years is just randomly different from the mean.\")\n",
    "print(\"In other words, if the chance were below 5%, we'd be able to say that the average snowfall is *not* randomly different than the mean snowfall.\")"
   ]
  },
  {
   "cell_type": "markdown",
   "metadata": {},
   "source": [
    "### La Niña average snowfall:"
   ]
  },
  {
   "cell_type": "code",
   "execution_count": 15,
   "metadata": {},
   "outputs": [
    {
     "name": "stdout",
     "output_type": "stream",
     "text": [
      "There is a  7.51% chance that the mean La Niña snowfall is just randomly higher than the mean snowfall.\n",
      "Because this is not less than 5%, we cannot reject the null hypothesis that mean La Niña snowfall is just randomly higher than mean snowfall in Loveland, CO.\n",
      "There is a 15.01% chance that the average snowfall during La Niña years is just randomly different from the mean.\n",
      "In other words, it's just random that the mean snowfall during La Niña years is different from the mean snowfall.\n"
     ]
    }
   ],
   "source": [
    "# What is the probability that the snowfall was higher during La Nina just due to chance?\n",
    "sample_mean=ln_snowavg\n",
    "sample_N=1 # there's only one La Niña average\n",
    "\n",
    "# Population statistics stay the same.\n",
    "\n",
    "# Z-statistic (number of standard errors that the sample mean deviates from the population mean\n",
    "z_nina=(sample_mean-population_mean)/xstd\n",
    "\n",
    "percent1side_ln = (1-stats.norm.cdf(np.abs(z_nina)))*100 ## this is a one-tailed test\n",
    "print(\"There is a \"+'{:5.2f}'.format(percent1side_ln)+\"% chance that the mean La Niña snowfall is just randomly higher than the mean snowfall.\")\n",
    "print(\"Because this is not less than 5%, we cannot reject the null hypothesis that mean La Niña snowfall is just randomly higher than mean snowfall in Loveland, CO.\")\n",
    "\n",
    "# What is the probability that the snowfall during La Nina differed just due to chance?\n",
    "percent2sided_ln =(1-stats.norm.cdf(np.abs(z_nina)))*2*100\n",
    "print(\"There is a \"+'{:5.2f}'.format(percent2sided_ln)+\"% chance that the average snowfall during La Niña years is just randomly different from the mean.\")\n",
    "print(\"In other words, it's just random that the mean snowfall during La Niña years is different from the mean snowfall.\")"
   ]
  },
  {
   "cell_type": "markdown",
   "metadata": {},
   "source": [
    "## Strategy 3. Test whether a mean from a distribution of El Niño snowfall is different from the mean distribution of overall snowfall.\n",
    "\n",
    "Now our hypothesis is that the difference between the mean of El Niño snowfall distribution and the mean of average snowfall distribution is significantly different from zero. Our null hypothesis is that the difference between the means of these two distributions is not significantly different from zero."
   ]
  },
  {
   "cell_type": "markdown",
   "metadata": {},
   "source": [
    "### Bootstrap to create a distribution of difference of means. (1) Create a distribution from resampling snowfall from all years and then again from resampling El Niño snowfall. (2) Take the difference between the means of these two distributions."
   ]
  },
  {
   "cell_type": "code",
   "execution_count": 16,
   "metadata": {},
   "outputs": [
    {
     "name": "stdout",
     "output_type": "stream",
     "text": [
      "3.2904764660493804\n",
      "-1.1470505401234583\n",
      "Since this confidence interval contains zero, we cannot reject the null hypothesis that the difference between the mean snowfall and El Niño snowfall is zero.\n",
      "In other words, the El Niño snowfall and average snowfall are not statistically significantly different from each other.\n"
     ]
    },
    {
     "data": {
      "image/png": "[encoded data removed]",
      "text/plain": [
       "<Figure size 432x288 with 1 Axes>"
      ]
     },
     "metadata": {
      "needs_background": "light"
     },
     "output_type": "display_data"
    }
   ],
   "source": [
    "noboot = 1000\n",
    "bootstrap_statistic = np.empty(noboot)\n",
    "\n",
    "for i in range(1,noboot):\n",
    "    \n",
    "    #create a resample of average snowfall by sampling with replacement \n",
    "    resample_original = np.random.choice(snowfall, len(snowfall), replace=True)\n",
    "    \n",
    "    #create a resample of snowfall during El Niño years by sampling with replacement \n",
    "    resample_nino = np.random.choice(en_snow, len(en_snow), replace=True)\n",
    "    \n",
    "    #Compute the test statistic from the resampled data, i.e., the difference in means\n",
    "    bootstrap_statistic[i] = np.mean(resample_original) - np.mean(resample_nino)\n",
    "\n",
    "#Plot the distribution of the difference of means\n",
    "plt.hist(bootstrap_statistic,range(-5,5),edgecolor='black')\n",
    "plt.xlabel('Difference in sample means')\n",
    "plt.ylabel('Count')\n",
    "plt.title('Bootstrap distribution of difference in sample means')\n",
    "\n",
    "#Create 95% CI from the bootstrapped distribution. The upper limit of the CI is defined as the 97.5% percentile\n",
    "#and the lower limit as the 2.5% percentile of the boostrap distribution, so that 95% of the \n",
    "#distribution lies within the two limits\n",
    "\n",
    "CI_up = np.percentile(bootstrap_statistic, 100*(1 - alpha/2.0))\n",
    "CI_lo = np.percentile(bootstrap_statistic, 100*(alpha/2.0))\n",
    "\n",
    "print(CI_up)\n",
    "print(CI_lo)\n",
    "print(\"Since this confidence interval contains zero, we cannot reject the null hypothesis that the difference between the mean snowfall and El Niño snowfall is zero.\")\n",
    "print(\"In other words, the El Niño snowfall and average snowfall are not statistically significantly different from each other.\")"
   ]
  }
 ],
 "metadata": {
  "kernelspec": {
   "display_name": "Python 3",
   "language": "python",
   "name": "python3"
  },
  "language_info": {
   "codemirror_mode": {
    "name": "ipython",
    "version": 3
   },
   "file_extension": ".py",
   "mimetype": "text/x-python",
   "name": "python",
   "nbconvert_exporter": "python",
   "pygments_lexer": "ipython3",
   "version": "3.6.8"
  }
 },
 "nbformat": 4,
 "nbformat_minor": 2
}
