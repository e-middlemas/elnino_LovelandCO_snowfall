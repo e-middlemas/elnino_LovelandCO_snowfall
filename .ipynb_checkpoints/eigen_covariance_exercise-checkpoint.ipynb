{
 "cells": [
  {
   "cell_type": "markdown",
   "metadata": {},
   "source": [
    "# Eigenanalysis of a Covariance Matrix\n",
    "This code is to illustrate the usefulness of covariance matrices and associated eigenanalysis.\n",
    "\n",
    "We will be analyzing data from Application Lab #2-- computing covariance matrices between temperature, pressure, and precipitation from Christman Field in Ft. Collins. \n"
   ]
  },
  {
   "cell_type": "code",
   "execution_count": 1,
   "metadata": {},
   "outputs": [],
   "source": [
    "### ATOC 7500: Objective Analysis\n",
    "# Written by Eleanor Middlemas, 2-11-2019\n",
    "# Lecture on Linear Algebra Review\n",
    "#\n",
    "import numpy as np\n",
    "import numpy.linalg as LA\n",
    "import matplotlib\n",
    "%matplotlib inline\n",
    "import matplotlib.pyplot as plt\n",
    "import pandas as pd   ##pandas reads in .csv.\n",
    "from scipy import stats\n",
    "from mpl_toolkits.mplot3d import Axes3D"
   ]
  },
  {
   "cell_type": "code",
   "execution_count": 2,
   "metadata": {},
   "outputs": [
    {
     "name": "stdout",
     "output_type": "stream",
     "text": [
      "Matrix shape of TEMP is:  (366,)\n"
     ]
    }
   ],
   "source": [
    "## Read in the data: using same data as that from application lab #2.\n",
    "# This time, the temporal resolution will be fixed.\n",
    "filename = 'christman_2016.csv'\n",
    "data=pd.read_csv(filename,sep=',')\n",
    "TEMP = data['temp_F'][::24] # every 24 hours\n",
    "RH = data['RH'][::24]\n",
    "P = data['pres_Hg'][::24]\n",
    "#data.head() # uncomment if you want to see first few values & header info\n",
    "print(\"Matrix shape of TEMP is: \",np.shape(TEMP))"
   ]
  },
  {
   "cell_type": "markdown",
   "metadata": {},
   "source": [
    "## Part 1: Computing a covariance matrix\n",
    "Here is an easy, fast way to compute the variance and covariance terms among 3 timeseries of different variables: temperature, relative humidity, and pressure."
   ]
  },
  {
   "cell_type": "code",
   "execution_count": 3,
   "metadata": {},
   "outputs": [
    {
     "name": "stdout",
     "output_type": "stream",
     "text": [
      "Dimensions of original matrix: \n",
      "(366, 3)\n",
      "Dimensions of transposed matrix: \n",
      "(3, 366)\n"
     ]
    }
   ],
   "source": [
    "# create matrix for easier operations: \n",
    "# variables in the columns and their associated observations in rows\n",
    "ftcollvars = np.matrix([TEMP, RH, P]).T\n",
    "\n",
    "# What are the dimensions of this matrix?\n",
    "print(\"Dimensions of original matrix: \")\n",
    "print(np.shape(ftcollvars))\n",
    "print(\"Dimensions of transposed matrix: \")\n",
    "print(np.shape(np.transpose(ftcollvars)))"
   ]
  },
  {
   "cell_type": "code",
   "execution_count": 7,
   "metadata": {},
   "outputs": [
    {
     "name": "stdout",
     "output_type": "stream",
     "text": [
      "Size of first covariance matrix:  (3, 3)\n",
      "Size of second covariance matrix:  (366, 366)\n",
      "Size of covariance calculated by numpy:  (3, 3)\n"
     ]
    }
   ],
   "source": [
    "# subtract mean to obtain anomalies\n",
    "ftcollvars = ftcollvars-np.mean(ftcollvars,axis=0)\n",
    "\n",
    "# calculate covariance matrix: which one is correct? Why?\n",
    "C1 = ftcollvars.T@ftcollvars/(len(TEMP))\n",
    "C2 = ftcollvars@ftcollvars.T/(3.0-1)\n",
    "\n",
    "# Try numpy's covariance function to test:\n",
    "Cnp = np.cov(ftcollvars.T)\n",
    "\n",
    "print(\"Size of first covariance matrix: \",np.shape(C1))\n",
    "print(\"Size of second covariance matrix: \",np.shape(C2))\n",
    "print(\"Size of covariance calculated by numpy: \",np.shape(Cnp))"
   ]
  },
  {
   "cell_type": "code",
   "execution_count": 8,
   "metadata": {
    "scrolled": true
   },
   "outputs": [
    {
     "name": "stdout",
     "output_type": "stream",
     "text": [
      "The covariance matrix of temperature, relative humidity, and pressure is:\n",
      "[[272.6726128  -98.88583072   4.62037724]\n",
      " [-98.88583072 336.58745021  13.69110926]\n",
      " [  4.62037724  13.69110926  32.05175196]]\n"
     ]
    }
   ],
   "source": [
    "# What is the total variance of temperature, relative humidity, \n",
    "# and pressure? \n",
    "print(\"The covariance matrix of temperature, relative \\\n",
    "humidity, and pressure is:\")\n",
    "print(C1)"
   ]
  },
  {
   "cell_type": "code",
   "execution_count": 9,
   "metadata": {},
   "outputs": [
    {
     "name": "stdout",
     "output_type": "stream",
     "text": [
      "Standard deviation of: \n",
      "Temp is  16.51  degrees C\n",
      "RH is  18.35 %\n",
      "Pressure is  5.66  Hg\n",
      "\n",
      "Check with numpy standard deviation function...\n",
      "Temp sigma:  16.51  degrees C\n",
      "RH sigma:  18.35 %\n",
      "Pressure sigma:  5.66  Hg\n"
     ]
    }
   ],
   "source": [
    "#  Standard deviation might make more sense.\n",
    "print(\"Standard deviation of: \")\n",
    "print(\"Temp is \",np.round(np.sqrt(C1[0,0]),2),\" degrees C\")\n",
    "print(\"RH is \",np.round(np.sqrt(C1[1,1]),2),\"%\")\n",
    "print(\"Pressure is \",np.round(np.sqrt(C1[2,2]),2),\" Hg\")\n",
    "\n",
    "print(\"\")\n",
    "print(\"Check with numpy standard deviation function...\")\n",
    "print(\"Temp sigma: \",np.round(np.std(TEMP),2),\" degrees C\")\n",
    "print(\"RH sigma: \",np.round(np.std(RH),2),\"%\")\n",
    "print(\"Pressure sigma: \",np.round(np.std(P),2),\" Hg\")"
   ]
  },
  {
   "cell_type": "code",
   "execution_count": 10,
   "metadata": {},
   "outputs": [
    {
     "name": "stdout",
     "output_type": "stream",
     "text": [
      "Covariance between temperature & RH: \n",
      "-98.89\n",
      "-98.89\n",
      "Correlation between temperature & RH: \n",
      "-0.33\n"
     ]
    }
   ],
   "source": [
    "# How do you interpret the off-diagonal or cross-terms?\n",
    "print(\"Covariance between temperature & RH: \")\n",
    "print(np.round(C1[0,1],2)) \n",
    "print(np.round(C1[1,0],2)) # which covariance term is this?\n",
    "\n",
    "# How do you derive the correlation using the covariance matrix?\n",
    "# Hint: recall that the relationship between covariance and correlation \n",
    "# is that the correlation(x,y) = covariance(x,y)/(sigma_x*sigma_y).\n",
    "print(\"Correlation between temperature & RH: \")\n",
    "corr = C1[0,1]/np.std(TEMP)/np.std(RH)\n",
    "print(np.round(corr,2))\n",
    "\n",
    "# Perhaps try looking at other values! :)"
   ]
  },
  {
   "cell_type": "code",
   "execution_count": null,
   "metadata": {
    "collapsed": true
   },
   "outputs": [],
   "source": [
    "# Try plotting all three variables:\n",
    "fig = plt.figure()\n",
    "ax = fig.gca(projection='3d')\n",
    "ax.scatter(TEMP, RH, P, s = 5,color='black')\n",
    "ax.set_xlabel('TEMP')\n",
    "ax.set_ylabel('RH')\n",
    "ax.set_zlabel('P')\n",
    "ax.xaxis.label.set_color('red')\n",
    "ax.yaxis.label.set_color('red')\n",
    "ax.zaxis.label.set_color('red')\n",
    "ax.xaxis.label.set_fontsize(15)\n",
    "ax.yaxis.label.set_fontsize(15)\n",
    "ax.zaxis.label.set_fontsize(15)"
   ]
  },
  {
   "cell_type": "markdown",
   "metadata": {},
   "source": [
    "## Part 2. Eigenanalysis on the covariance matrix\n",
    "What would an eigenanalysis look like on this covariance matrix? What does an eigenanalysis actually do?"
   ]
  },
  {
   "cell_type": "code",
   "execution_count": 11,
   "metadata": {},
   "outputs": [
    {
     "name": "stdout",
     "output_type": "stream",
     "text": [
      "\n",
      "eigenvalues: \n",
      "[408.73703929 201.52735362  31.04742205]\n",
      "\n",
      "eigenvectors:\n",
      "[[ 0.58726057 -0.80825145 -0.04306536]\n",
      " [-0.80909332 -0.5847484  -0.05862861]\n",
      " [-0.02220426 -0.06927417  0.99735052]]\n",
      "\n",
      "sum of eigenvalues: \n",
      "641.3118149668552\n",
      "\n",
      "total variance in data: \n",
      "641.3118149668549\n"
     ]
    }
   ],
   "source": [
    "# use numpy's linear algebra function (we imported as LA) to compute\n",
    "# eigenvalues & eigenvectors.\n",
    "eigenvals,eigenvecs = LA.eig(C1)\n",
    "\n",
    "# sort eigenvalues in descending order\n",
    "inds = np.argsort(eigenvals) # saves indices in ascending order of eigenvals\n",
    "eigenvals = eigenvals[inds[::-1]]\n",
    "eigenvecs = eigenvecs[:,inds[::-1]]\n",
    "print('')\n",
    "print('eigenvalues: ')\n",
    "print(eigenvals)\n",
    "print(\"\")\n",
    "print('eigenvectors:')\n",
    "print(eigenvecs)\n",
    "print(\"\")\n",
    "print(\"sum of eigenvalues: \")\n",
    "print(np.sum(eigenvals))\n",
    "print(\"\")\n",
    "print(\"total variance in data: \")\n",
    "print(np.sum(np.diag(C1)))\n"
   ]
  },
  {
   "cell_type": "markdown",
   "metadata": {},
   "source": [
    "Alright, so, these numbers are huge-- especially the eigenvalues, which makes it difficult to interpret physically. Let's get an idea of what they look like geometrically."
   ]
  },
  {
   "cell_type": "code",
   "execution_count": 12,
   "metadata": {},
   "outputs": [
    {
     "data": {
      "text/plain": [
       "<matplotlib.legend.Legend at 0x1a23094390>"
      ]
     },
     "execution_count": 12,
     "metadata": {},
     "output_type": "execute_result"
    },
    {
     "data": {
      "image/png": "[encoded data removed]",
      "text/plain": [
       "<Figure size 432x288 with 1 Axes>"
      ]
     },
     "metadata": {
      "needs_background": "light"
     },
     "output_type": "display_data"
    }
   ],
   "source": [
    "# First plot the two that capture the relationship between \n",
    "# temperature & relative humidity. Note that these are subsets\n",
    "# of the eigenvectors! I.e., only the first two components of the\n",
    "# first two eigenvectors.\n",
    "\n",
    "fig1,ax = plt.subplots()\n",
    "plt.scatter(TEMP, RH, s=10, color = 'black')\n",
    "plt.axis('equal')\n",
    "plt.xlabel('TEMP')\n",
    "plt.ylabel('RH')\n",
    "plt.grid(alpha = 0.4)\n",
    "ylim = plt.ylim()\n",
    "xlim = plt.xlim()\n",
    "\n",
    "#plot eigenvector 1\n",
    "plt.plot([-100*eigenvecs[0,0] + np.mean(TEMP), 100*eigenvecs[0,0] + np.mean(TEMP)],\n",
    "         [-100*eigenvecs[1,0] + np.mean(RH), 100*eigenvecs[1,0] + np.mean(RH)], \n",
    "         linestyle = '--',color = 'red', label = 'EV1')\n",
    "\n",
    "#plot eigenvector 2\n",
    "plt.plot([-100*eigenvecs[0,1] + np.mean(TEMP), 100*eigenvecs[0,1] + np.mean(TEMP)],\n",
    "         [-100*eigenvecs[1,1] + np.mean(RH), 100*eigenvecs[1,1] + np.mean(RH)], \n",
    "         linestyle = '--',color = 'blue', label = 'EV2')\n",
    "\n",
    "plt.ylim(ylim)\n",
    "plt.xlim(xlim)\n",
    "plt.legend(fontsize = 13)"
   ]
  },
  {
   "cell_type": "markdown",
   "metadata": {},
   "source": [
    "Which eigenvector pictured above captures the spread between RH and TEMP the most? The associated eigenvalue represents the amount of variance that this relationship contributes to the total variance among the whole dataset - including the covariance between variables. \n",
    "\n",
    "Let's look at the relationship between humidity & pressure."
   ]
  },
  {
   "cell_type": "code",
   "execution_count": 13,
   "metadata": {},
   "outputs": [
    {
     "data": {
      "text/plain": [
       "<matplotlib.legend.Legend at 0x1a24d69390>"
      ]
     },
     "execution_count": 13,
     "metadata": {},
     "output_type": "execute_result"
    },
    {
     "data": {
      "image/png": "[encoded data removed]",
      "text/plain": [
       "<Figure size 432x288 with 1 Axes>"
      ]
     },
     "metadata": {
      "needs_background": "light"
     },
     "output_type": "display_data"
    }
   ],
   "source": [
    "# Now let's try relative humidity & pressure\n",
    "fig1,ax = plt.subplots()\n",
    "plt.scatter(RH, P, s=10, color = 'black')\n",
    "plt.axis('equal')\n",
    "plt.xlabel('RH')\n",
    "plt.ylabel('P')\n",
    "plt.grid(alpha = 0.4)\n",
    "ylim = plt.ylim()\n",
    "xlim = plt.xlim()\n",
    "\n",
    "#plot eigen vector 1\n",
    "plt.plot([-100*eigenvecs[1,1] + np.mean(RH), 100*eigenvecs[1,1] + np.mean(RH)],\n",
    "         [-100*eigenvecs[2,1] + np.mean(P), 100*eigenvecs[2,1] + np.mean(P)], \n",
    "         linestyle = '--',color = 'red', label = 'EV1')\n",
    "\n",
    "#plot eigen vector 2\n",
    "plt.plot([-100*eigenvecs[1,2] + np.mean(RH), 100*eigenvecs[1,2] + np.mean(RH)],\n",
    "         [-100*eigenvecs[2,2] + np.mean(P), 100*eigenvecs[2,2] + np.mean(P)], \n",
    "         linestyle = '--',color = 'blue', label = 'EV2')\n",
    "\n",
    "plt.ylim(ylim)\n",
    "plt.xlim(xlim)\n",
    "plt.legend(fontsize = 13)"
   ]
  },
  {
   "cell_type": "markdown",
   "metadata": {},
   "source": [
    "Here, it looks like the spread in relative humidity alone dominates the relationship between relative humidity and pressure. This means that, if one calculated a covariance matrix for just humidity & pressure, the off-diagonal terms would be small relative to the diagonal terms."
   ]
  },
  {
   "cell_type": "markdown",
   "metadata": {},
   "source": [
    "##  In this example, the eigenvalues do not relate to just one variable like the diagonals of the covariance matrix; instead, the eigenvalues and vectors identify the dominant contributor to spread for the whole dataset."
   ]
  }
 ],
 "metadata": {
  "kernelspec": {
   "display_name": "Python 3",
   "language": "python",
   "name": "python3"
  },
  "language_info": {
   "codemirror_mode": {
    "name": "ipython",
    "version": 3
   },
   "file_extension": ".py",
   "mimetype": "text/x-python",
   "name": "python",
   "nbconvert_exporter": "python",
   "pygments_lexer": "ipython3",
   "version": "3.7.3"
  }
 },
 "nbformat": 4,
 "nbformat_minor": 2
}
